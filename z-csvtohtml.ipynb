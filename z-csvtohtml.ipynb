{
 "cells": [
  {
   "cell_type": "code",
   "execution_count": null,
   "metadata": {},
   "outputs": [],
   "source": [
    "import pandas as pd\n",
    "\n",
    "# Read the csv file in\n",
    "df = pd.read_csv(\"Resources/City_Data.csv\")\n",
    "\n",
    "# Save to file\n",
    "df.to_html('csvtotable.html', index=False)\n",
    "\n",
    "table = df.to_html()\n",
    "print(table)"
   ]
  }
 ],
 "metadata": {
  "kernelspec": {
   "display_name": "PythonData",
   "language": "python",
   "name": "python3"
  },
  "language_info": {
   "codemirror_mode": {
    "name": "ipython",
    "version": 3
   },
   "file_extension": ".py",
   "mimetype": "text/x-python",
   "name": "python",
   "nbconvert_exporter": "python",
   "pygments_lexer": "ipython3",
   "version": "3.7.7 (default, May  6 2020, 04:59:01) \n[Clang 4.0.1 (tags/RELEASE_401/final)]"
  },
  "vscode": {
   "interpreter": {
    "hash": "b6cce24653f235c72fc4508a182a4aa78cc63d76feb097baa8f9f50675ccaa3a"
   }
  }
 },
 "nbformat": 4,
 "nbformat_minor": 2
}
